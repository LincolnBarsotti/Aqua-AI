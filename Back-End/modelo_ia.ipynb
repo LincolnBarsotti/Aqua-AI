{
 "cells": [
  {
   "cell_type": "code",
   "execution_count": 1,
   "id": "89955633-9cfb-4bea-ba69-423b6bc9e8a9",
   "metadata": {
    "tags": []
   },
   "outputs": [],
   "source": [
    "import tensorflow as tf\n",
    "from tensorflow.keras import datasets, layers, models\n",
    "from tensorflow.keras.preprocessing.image import ImageDataGenerator\n",
    "import matplotlib.pyplot as plt\n",
    "import numpy as np"
   ]
  },
  {
   "cell_type": "code",
   "execution_count": 3,
   "id": "8205a9c2-ba5a-458e-a8d2-417258baf1aa",
   "metadata": {
    "tags": []
   },
   "outputs": [],
   "source": [
    "train_dir = r'C:\\Users\\naomi\\aquAI\\ModeloAnimaisIA\\Back-End\\dataset\\treinamento'\n",
    "test_dir = r'C:\\Users\\naomi\\aquAI\\ModeloAnimaisIA\\Back-End\\dataset\\teste'"
   ]
  },
  {
   "cell_type": "code",
   "execution_count": 5,
   "id": "6d53da5a-b10a-4d21-b962-2833ed14fba4",
   "metadata": {
    "tags": []
   },
   "outputs": [],
   "source": [
    "train_datagen = ImageDataGenerator(\n",
    "    rescale=1./255,          # Normalização\n",
    "    rotation_range=20,       # Rotação aleatória\n",
    "    width_shift_range=0.2,   # Deslocamento horizontal\n",
    "    height_shift_range=0.2,  # Deslocamento vertical\n",
    "    \n",
    "    shear_range=0.2,        # Cortes\n",
    "    zoom_range=0.2,         # Zoom\n",
    "    horizontal_flip=True,    # Espelhar horizontalmente\n",
    "    fill_mode='nearest'      # Modo de preenchimento\n",
    ")"
   ]
  },
  {
   "cell_type": "code",
   "execution_count": 7,
   "id": "c6604d46-a8c1-4ea8-a6d2-856665b9c048",
   "metadata": {
    "tags": []
   },
   "outputs": [],
   "source": [
    "test_datagen = ImageDataGenerator(rescale=1./255)  "
   ]
  },
  {
   "cell_type": "code",
   "execution_count": 9,
   "id": "d392cbb8-b3db-4c2c-bfa3-f2ab5dc49921",
   "metadata": {
    "tags": []
   },
   "outputs": [
    {
     "name": "stdout",
     "output_type": "stream",
     "text": [
      "Found 23 images belonging to 3 classes.\n",
      "Found 23 images belonging to 3 classes.\n"
     ]
    }
   ],
   "source": [
    "train_generator = train_datagen.flow_from_directory(\n",
    "    train_dir,\n",
    "    target_size=(32, 32),  # Redimensionar as imagens\n",
    "    batch_size=32,\n",
    "    class_mode='categorical'  # Se você tem múltiplas classes\n",
    ")\n",
    "\n",
    "test_generator = test_datagen.flow_from_directory(\n",
    "    test_dir,\n",
    "    target_size=(32, 32),\n",
    "    batch_size=32,\n",
    "    class_mode='categorical'\n",
    ")"
   ]
  },
  {
   "cell_type": "code",
   "execution_count": 11,
   "id": "af146e16-5330-46ed-8873-619101069398",
   "metadata": {
    "tags": []
   },
   "outputs": [
    {
     "name": "stderr",
     "output_type": "stream",
     "text": [
      "C:\\Users\\naomi\\anaconda3\\Lib\\site-packages\\keras\\src\\trainers\\data_adapters\\py_dataset_adapter.py:121: UserWarning: Your `PyDataset` class should call `super().__init__(**kwargs)` in its constructor. `**kwargs` can include `workers`, `use_multiprocessing`, `max_queue_size`. Do not pass these arguments to `fit()`, as they will be ignored.\n",
      "  self._warn_if_super_not_called()\n"
     ]
    },
    {
     "name": "stdout",
     "output_type": "stream",
     "text": [
      "Epoch 1/10\n",
      "\u001b[1m1/1\u001b[0m \u001b[32m━━━━━━━━━━━━━━━━━━━━\u001b[0m\u001b[37m\u001b[0m \u001b[1m0s\u001b[0m 1s/step - accuracy: 0.2609 - loss: 1.0983"
     ]
    },
    {
     "name": "stderr",
     "output_type": "stream",
     "text": [
      "C:\\Users\\naomi\\anaconda3\\Lib\\site-packages\\keras\\src\\trainers\\data_adapters\\py_dataset_adapter.py:121: UserWarning: Your `PyDataset` class should call `super().__init__(**kwargs)` in its constructor. `**kwargs` can include `workers`, `use_multiprocessing`, `max_queue_size`. Do not pass these arguments to `fit()`, as they will be ignored.\n",
      "  self._warn_if_super_not_called()\n"
     ]
    },
    {
     "name": "stdout",
     "output_type": "stream",
     "text": [
      "\u001b[1m1/1\u001b[0m \u001b[32m━━━━━━━━━━━━━━━━━━━━\u001b[0m\u001b[37m\u001b[0m \u001b[1m1s\u001b[0m 1s/step - accuracy: 0.2609 - loss: 1.0983 - val_accuracy: 0.4348 - val_loss: 1.0656\n",
      "Epoch 2/10\n",
      "\u001b[1m1/1\u001b[0m \u001b[32m━━━━━━━━━━━━━━━━━━━━\u001b[0m\u001b[37m\u001b[0m \u001b[1m0s\u001b[0m 124ms/step - accuracy: 0.4348 - loss: 1.0619 - val_accuracy: 0.4348 - val_loss: 1.0483\n",
      "Epoch 3/10\n",
      "\u001b[1m1/1\u001b[0m \u001b[32m━━━━━━━━━━━━━━━━━━━━\u001b[0m\u001b[37m\u001b[0m \u001b[1m0s\u001b[0m 139ms/step - accuracy: 0.4348 - loss: 1.0635 - val_accuracy: 0.4348 - val_loss: 1.0178\n",
      "Epoch 4/10\n",
      "\u001b[1m1/1\u001b[0m \u001b[32m━━━━━━━━━━━━━━━━━━━━\u001b[0m\u001b[37m\u001b[0m \u001b[1m0s\u001b[0m 137ms/step - accuracy: 0.4783 - loss: 1.0060 - val_accuracy: 0.4783 - val_loss: 0.9758\n",
      "Epoch 5/10\n",
      "\u001b[1m1/1\u001b[0m \u001b[32m━━━━━━━━━━━━━━━━━━━━\u001b[0m\u001b[37m\u001b[0m \u001b[1m0s\u001b[0m 136ms/step - accuracy: 0.5652 - loss: 0.9845 - val_accuracy: 0.6087 - val_loss: 0.9230\n",
      "Epoch 6/10\n",
      "\u001b[1m1/1\u001b[0m \u001b[32m━━━━━━━━━━━━━━━━━━━━\u001b[0m\u001b[37m\u001b[0m \u001b[1m0s\u001b[0m 115ms/step - accuracy: 0.6522 - loss: 0.9535 - val_accuracy: 0.6087 - val_loss: 0.8617\n",
      "Epoch 7/10\n",
      "\u001b[1m1/1\u001b[0m \u001b[32m━━━━━━━━━━━━━━━━━━━━\u001b[0m\u001b[37m\u001b[0m \u001b[1m0s\u001b[0m 126ms/step - accuracy: 0.6522 - loss: 0.8910 - val_accuracy: 0.6522 - val_loss: 0.7900\n",
      "Epoch 8/10\n",
      "\u001b[1m1/1\u001b[0m \u001b[32m━━━━━━━━━━━━━━━━━━━━\u001b[0m\u001b[37m\u001b[0m \u001b[1m0s\u001b[0m 135ms/step - accuracy: 0.6087 - loss: 0.8666 - val_accuracy: 0.6957 - val_loss: 0.7171\n",
      "Epoch 9/10\n",
      "\u001b[1m1/1\u001b[0m \u001b[32m━━━━━━━━━━━━━━━━━━━━\u001b[0m\u001b[37m\u001b[0m \u001b[1m0s\u001b[0m 133ms/step - accuracy: 0.6957 - loss: 0.7579 - val_accuracy: 0.6522 - val_loss: 0.6769\n",
      "Epoch 10/10\n",
      "\u001b[1m1/1\u001b[0m \u001b[32m━━━━━━━━━━━━━━━━━━━━\u001b[0m\u001b[37m\u001b[0m \u001b[1m0s\u001b[0m 125ms/step - accuracy: 0.6087 - loss: 0.6924 - val_accuracy: 0.7826 - val_loss: 0.5607\n"
     ]
    }
   ],
   "source": [
    "model = models.Sequential()\n",
    "model.add(layers.Input(shape=(32, 32, 3)))\n",
    "model.add(layers.Conv2D(32, (3, 3), activation='relu'))\n",
    "model.add(layers.MaxPooling2D((2, 2)))\n",
    "model.add(layers.Conv2D(64, (3, 3), activation='relu'))\n",
    "model.add(layers.MaxPooling2D((2, 2)))\n",
    "model.add(layers.Conv2D(64, (3, 3), activation='relu'))\n",
    "model.add(layers.Flatten())\n",
    "model.add(layers.Dense(64, activation='relu'))\n",
    "model.add(layers.Dense(len(train_generator.class_indices), activation='softmax'))  # Número de classes\n",
    "\n",
    "# Compilar o modelo\n",
    "model.compile(optimizer='adam',\n",
    "              loss='categorical_crossentropy',\n",
    "              metrics=['accuracy'])\n",
    "\n",
    "# Treinar o modelo\n",
    "history = model.fit(train_generator, epochs=10, validation_data=test_generator)"
   ]
  },
  {
   "cell_type": "code",
   "execution_count": 15,
   "id": "7d1114d9-201d-48dd-88a5-4ca23919f0bb",
   "metadata": {
    "tags": []
   },
   "outputs": [
    {
     "name": "stdout",
     "output_type": "stream",
     "text": [
      "1/1 - 0s - 54ms/step - accuracy: 0.7826 - loss: 0.5607\n",
      "\n",
      "Acurácia no conjunto de teste: 78.26%\n",
      "\u001b[1m1/1\u001b[0m \u001b[32m━━━━━━━━━━━━━━━━━━━━\u001b[0m\u001b[37m\u001b[0m \u001b[1m0s\u001b[0m 58ms/step\n",
      "Classe prevista: plantas\n",
      "Confiança: 70.20%\n"
     ]
    }
   ],
   "source": [
    "# Avaliar o modelo\n",
    "test_loss, test_acc = model.evaluate(test_generator, verbose=2)\n",
    "print(f'\\nAcurácia no conjunto de teste: {test_acc*100:.2f}%')\n",
    "\n",
    "# Para prever uma nova imagem\n",
    "from tensorflow.keras.preprocessing import image\n",
    "import numpy as np\n",
    "\n",
    "# Função para carregar e preprocessar uma nova imagem\n",
    "def load_and_preprocess_image(img_path):\n",
    "    img = image.load_img(img_path, target_size=(32, 32))  # Redimensionar\n",
    "    img_array = image.img_to_array(img) / 255.0  # Normalizar\n",
    "    img_array = np.expand_dims(img_array, axis=0)  # Adicionar dimensão do lote\n",
    "    return img_array\n",
    "\n",
    "# Exemplo de previsão\n",
    "img_path = r'C:\\Users\\naomi\\aquAI\\ModeloAnimaisIA\\images.jpg'\n",
    "img = load_and_preprocess_image(img_path)\n",
    "predictions = model.predict(img)\n",
    "predicted_class = np.argmax(predictions)\n",
    "\n",
    "# Mostrar o resultado\n",
    "print(f'Classe prevista: {list(train_generator.class_indices.keys())[predicted_class]}')\n",
    "\n",
    "confidence = np.max(predictions) * 100  # Multiplicar por 100 para obter a porcentagem\n",
    "print(f'Confiança: {confidence:.2f}%')"
   ]
  },
  {
   "cell_type": "code",
   "execution_count": 17,
   "id": "9f5e79d5-fdf1-4b4f-b9f4-37300fbebb92",
   "metadata": {},
   "outputs": [
    {
     "name": "stdout",
     "output_type": "stream",
     "text": [
      "INFO:tensorflow:Assets written to: saved_model_dir\\assets\n"
     ]
    },
    {
     "name": "stderr",
     "output_type": "stream",
     "text": [
      "INFO:tensorflow:Assets written to: saved_model_dir\\assets\n"
     ]
    },
    {
     "name": "stdout",
     "output_type": "stream",
     "text": [
      "Saved artifact at 'saved_model_dir'. The following endpoints are available:\n",
      "\n",
      "* Endpoint 'serve'\n",
      "  args_0 (POSITIONAL_ONLY): TensorSpec(shape=(None, 32, 32, 3), dtype=tf.float32, name='keras_tensor')\n",
      "Output Type:\n",
      "  TensorSpec(shape=(None, 3), dtype=tf.float32, name=None)\n",
      "Captures:\n",
      "  1843081217808: TensorSpec(shape=(), dtype=tf.resource, name=None)\n",
      "  1843081216464: TensorSpec(shape=(), dtype=tf.resource, name=None)\n",
      "  1843081218000: TensorSpec(shape=(), dtype=tf.resource, name=None)\n",
      "  1843081219536: TensorSpec(shape=(), dtype=tf.resource, name=None)\n",
      "  1843081221072: TensorSpec(shape=(), dtype=tf.resource, name=None)\n",
      "  1843081221648: TensorSpec(shape=(), dtype=tf.resource, name=None)\n",
      "  1843081221264: TensorSpec(shape=(), dtype=tf.resource, name=None)\n",
      "  1843081222800: TensorSpec(shape=(), dtype=tf.resource, name=None)\n",
      "  1843081220496: TensorSpec(shape=(), dtype=tf.resource, name=None)\n",
      "  1843081222224: TensorSpec(shape=(), dtype=tf.resource, name=None)\n"
     ]
    }
   ],
   "source": [
    "model.export('saved_model_dir')  # Salva o modelo no formato SavedModel"
   ]
  },
  {
   "cell_type": "code",
   "execution_count": 19,
   "id": "d6d4972c-bf5a-4f2a-9166-8893dd25fca0",
   "metadata": {},
   "outputs": [
    {
     "name": "stderr",
     "output_type": "stream",
     "text": [
      "WARNING:absl:You are saving your model as an HDF5 file via `model.save()` or `keras.saving.save_model(model)`. This file format is considered legacy. We recommend using instead the native Keras format, e.g. `model.save('my_model.keras')` or `keras.saving.save_model(model, 'my_model.keras')`. \n"
     ]
    }
   ],
   "source": [
    "model.save('modelo_classificacao_animais.h5')  # O modelo será salvo como 'modelo_classificacao_animais.h5'"
   ]
  }
 ],
 "metadata": {
  "kernelspec": {
   "display_name": "Python 3 (ipykernel)",
   "language": "python",
   "name": "python3"
  },
  "language_info": {
   "codemirror_mode": {
    "name": "ipython",
    "version": 3
   },
   "file_extension": ".py",
   "mimetype": "text/x-python",
   "name": "python",
   "nbconvert_exporter": "python",
   "pygments_lexer": "ipython3",
   "version": "3.12.7"
  }
 },
 "nbformat": 4,
 "nbformat_minor": 5
}
