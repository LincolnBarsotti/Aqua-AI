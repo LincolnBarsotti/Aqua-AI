{
 "cells": [
  {
   "cell_type": "code",
   "execution_count": 2,
   "id": "89955633-9cfb-4bea-ba69-423b6bc9e8a9",
   "metadata": {
    "tags": []
   },
   "outputs": [],
   "source": [
    "import tensorflow as tf\n",
    "from tensorflow.keras import datasets, layers, models\n",
    "from tensorflow.keras.preprocessing.image import ImageDataGenerator\n",
    "import matplotlib.pyplot as plt\n",
    "import numpy as np"
   ]
  },
  {
   "cell_type": "code",
   "execution_count": 4,
   "id": "8205a9c2-ba5a-458e-a8d2-417258baf1aa",
   "metadata": {
    "tags": []
   },
   "outputs": [],
   "source": [
    "train_dir = r'C:\\Users\\naomi\\upx_cinco\\Scripts\\dataset\\treinamento'\n",
    "test_dir = r'C:\\Users\\naomi\\upx_cinco\\Scripts\\dataset\\teste'"
   ]
  },
  {
   "cell_type": "code",
   "execution_count": 12,
   "id": "0b747826-0162-4225-8651-ca56db8981ab",
   "metadata": {},
   "outputs": [
    {
     "name": "stdout",
     "output_type": "stream",
     "text": [
      "['.ipynb_checkpoints', 'mamiferos', 'peixes', 'plantas']\n"
     ]
    }
   ],
   "source": [
    "import os\n",
    "\n",
    "data_dir = r'C:\\Users\\naomi\\upx_cinco\\Scripts\\dataset\\treinamento'\n",
    "classes = os.listdir(data_dir)\n",
    "print(classes)\n"
   ]
  },
  {
   "cell_type": "code",
   "execution_count": null,
   "id": "2688805c-9112-46a6-96c6-5843ad6a3abe",
   "metadata": {},
   "outputs": [],
   "source": []
  },
  {
   "cell_type": "code",
   "execution_count": 6,
   "id": "6d53da5a-b10a-4d21-b962-2833ed14fba4",
   "metadata": {
    "tags": []
   },
   "outputs": [],
   "source": [
    "train_datagen = ImageDataGenerator(\n",
    "    rescale=1./255,          # Normalização\n",
    "    rotation_range=20,       # Rotação aleatória\n",
    "    width_shift_range=0.2,   # Deslocamento horizontal\n",
    "    height_shift_range=0.2,  # Deslocamento vertical\n",
    "    \n",
    "    shear_range=0.2,        # Cortes\n",
    "    zoom_range=0.2,         # Zoom\n",
    "    horizontal_flip=True,    # Espelhar horizontalmente\n",
    "    fill_mode='nearest'      # Modo de preenchimento\n",
    ")"
   ]
  },
  {
   "cell_type": "code",
   "execution_count": 8,
   "id": "c6604d46-a8c1-4ea8-a6d2-856665b9c048",
   "metadata": {
    "tags": []
   },
   "outputs": [],
   "source": [
    "test_datagen = ImageDataGenerator(rescale=1./255)  "
   ]
  },
  {
   "cell_type": "code",
   "execution_count": 10,
   "id": "d392cbb8-b3db-4c2c-bfa3-f2ab5dc49921",
   "metadata": {
    "tags": []
   },
   "outputs": [
    {
     "name": "stdout",
     "output_type": "stream",
     "text": [
      "Found 30 images belonging to 4 classes.\n",
      "Found 30 images belonging to 4 classes.\n"
     ]
    }
   ],
   "source": [
    "train_generator = train_datagen.flow_from_directory(\n",
    "    train_dir,\n",
    "    target_size=(32, 32),  # Redimensionar as imagens\n",
    "    batch_size=32,\n",
    "    class_mode='categorical'  # Se você tem múltiplas classes\n",
    ")\n",
    "\n",
    "test_generator = test_datagen.flow_from_directory(\n",
    "    test_dir,\n",
    "    target_size=(32, 32),\n",
    "    batch_size=32,\n",
    "    class_mode='categorical'\n",
    ")"
   ]
  },
  {
   "cell_type": "code",
   "execution_count": null,
   "id": "af146e16-5330-46ed-8873-619101069398",
   "metadata": {
    "tags": []
   },
   "outputs": [],
   "source": [
    "model = models.Sequential()\n",
    "model.add(layers.Input(shape=(32, 32, 3)))\n",
    "model.add(layers.Conv2D(32, (3, 3), activation='relu'))\n",
    "model.add(layers.MaxPooling2D((2, 2)))\n",
    "model.add(layers.Conv2D(64, (3, 3), activation='relu'))\n",
    "model.add(layers.MaxPooling2D((2, 2)))\n",
    "model.add(layers.Conv2D(64, (3, 3), activation='relu'))\n",
    "model.add(layers.Flatten())\n",
    "model.add(layers.Dense(64, activation='relu'))\n",
    "model.add(layers.Dense(len(train_generator.class_indices), activation='softmax'))  # Número de classes\n",
    "\n",
    "# Compilar o modelo\n",
    "model.compile(optimizer='adam',\n",
    "              loss='categorical_crossentropy',\n",
    "              metrics=['accuracy'])\n",
    "\n",
    "# Treinar o modelo\n",
    "history = model.fit(train_generator, epochs=10, validation_data=test_generator)"
   ]
  },
  {
   "cell_type": "code",
   "execution_count": null,
   "id": "7d1114d9-201d-48dd-88a5-4ca23919f0bb",
   "metadata": {
    "tags": []
   },
   "outputs": [],
   "source": [
    "# Avaliar o modelo\n",
    "test_loss, test_acc = model.evaluate(test_generator, verbose=2)\n",
    "print(f'\\nAcurácia no conjunto de teste: {test_acc*100:.2f}%')\n",
    "\n",
    "# Para prever uma nova imagem\n",
    "from tensorflow.keras.preprocessing import image\n",
    "import numpy as np\n",
    "\n",
    "# Função para carregar e preprocessar uma nova imagem\n",
    "def load_and_preprocess_image(img_path):\n",
    "    img = image.load_img(img_path, target_size=(32, 32))  # Redimensionar\n",
    "    img_array = image.img_to_array(img) / 255.0  # Normalizar\n",
    "    img_array = np.expand_dims(img_array, axis=0)  # Adicionar dimensão do lote\n",
    "    return img_array\n",
    "\n",
    "# Exemplo de previsão\n",
    "img_path = r'images.jpg'\n",
    "img = load_and_preprocess_image(img_path)\n",
    "predictions = model.predict(img)\n",
    "predicted_class = np.argmax(predictions)\n",
    "\n",
    "# Mostrar o resultado\n",
    "print(f'Classe prevista: {list(train_generator.class_indices.keys())[predicted_class]}')\n",
    "\n",
    "confidence = np.max(predictions) * 100  # Multiplicar por 100 para obter a porcentagem\n",
    "print(f'Confiança: {confidence:.2f}%')"
   ]
  },
  {
   "cell_type": "code",
   "execution_count": null,
   "id": "9f5e79d5-fdf1-4b4f-b9f4-37300fbebb92",
   "metadata": {},
   "outputs": [],
   "source": [
    "model.export('saved_model_dir')  # Salva o modelo no formato SavedModel"
   ]
  },
  {
   "cell_type": "code",
   "execution_count": null,
   "id": "d6d4972c-bf5a-4f2a-9166-8893dd25fca0",
   "metadata": {},
   "outputs": [],
   "source": []
  }
 ],
 "metadata": {
  "kernelspec": {
   "display_name": "Python 3 (ipykernel)",
   "language": "python",
   "name": "python3"
  },
  "language_info": {
   "codemirror_mode": {
    "name": "ipython",
    "version": 3
   },
   "file_extension": ".py",
   "mimetype": "text/x-python",
   "name": "python",
   "nbconvert_exporter": "python",
   "pygments_lexer": "ipython3",
   "version": "3.12.7"
  }
 },
 "nbformat": 4,
 "nbformat_minor": 5
}
