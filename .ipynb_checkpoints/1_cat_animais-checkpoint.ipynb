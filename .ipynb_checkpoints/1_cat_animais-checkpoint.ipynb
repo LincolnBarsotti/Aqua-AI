{
 "cells": [
  {
   "cell_type": "code",
   "execution_count": 1,
   "id": "89955633-9cfb-4bea-ba69-423b6bc9e8a9",
   "metadata": {
    "tags": []
   },
   "outputs": [],
   "source": [
    "import tensorflow as tf\n",
    "from tensorflow.keras import datasets, layers, models\n",
    "from tensorflow.keras.preprocessing.image import ImageDataGenerator\n",
    "import matplotlib.pyplot as plt\n",
    "import numpy as np"
   ]
  },
  {
   "cell_type": "code",
   "execution_count": 2,
   "id": "8205a9c2-ba5a-458e-a8d2-417258baf1aa",
   "metadata": {
    "tags": []
   },
   "outputs": [],
   "source": [
    "train_dir = r'C:\\Users\\naomi\\upx_cinco\\Scripts\\dataset\\treinamento'\n",
    "test_dir = r'C:\\Users\\naomi\\upx_cinco\\Scripts\\dataset\\teste'"
   ]
  },
  {
   "cell_type": "code",
   "execution_count": 3,
   "id": "6d53da5a-b10a-4d21-b962-2833ed14fba4",
   "metadata": {
    "tags": []
   },
   "outputs": [],
   "source": [
    "train_datagen = ImageDataGenerator(\n",
    "    rescale=1./255,          # Normalização\n",
    "    rotation_range=20,       # Rotação aleatória\n",
    "    width_shift_range=0.2,   # Deslocamento horizontal\n",
    "    height_shift_range=0.2,  # Deslocamento vertical\n",
    "    \n",
    "    shear_range=0.2,        # Cortes\n",
    "    zoom_range=0.2,         # Zoom\n",
    "    horizontal_flip=True,    # Espelhar horizontalmente\n",
    "    fill_mode='nearest'      # Modo de preenchimento\n",
    ")"
   ]
  },
  {
   "cell_type": "code",
   "execution_count": 4,
   "id": "c6604d46-a8c1-4ea8-a6d2-856665b9c048",
   "metadata": {
    "tags": []
   },
   "outputs": [],
   "source": [
    "test_datagen = ImageDataGenerator(rescale=1./255)  "
   ]
  },
  {
   "cell_type": "code",
   "execution_count": 5,
   "id": "d392cbb8-b3db-4c2c-bfa3-f2ab5dc49921",
   "metadata": {
    "tags": []
   },
   "outputs": [
    {
     "name": "stdout",
     "output_type": "stream",
     "text": [
      "Found 6 images belonging to 3 classes.\n",
      "Found 6 images belonging to 3 classes.\n"
     ]
    }
   ],
   "source": [
    "train_generator = train_datagen.flow_from_directory(\n",
    "    train_dir,\n",
    "    target_size=(32, 32),  # Redimensionar as imagens\n",
    "    batch_size=32,\n",
    "    class_mode='categorical'  # Se você tem múltiplas classes\n",
    ")\n",
    "\n",
    "test_generator = test_datagen.flow_from_directory(\n",
    "    test_dir,\n",
    "    target_size=(32, 32),\n",
    "    batch_size=32,\n",
    "    class_mode='categorical'\n",
    ")"
   ]
  },
  {
   "cell_type": "code",
   "execution_count": 6,
   "id": "af146e16-5330-46ed-8873-619101069398",
   "metadata": {
    "tags": []
   },
   "outputs": [
    {
     "name": "stdout",
     "output_type": "stream",
     "text": [
      "Epoch 1/10\n"
     ]
    },
    {
     "name": "stderr",
     "output_type": "stream",
     "text": [
      "C:\\Users\\naomi\\anaconda3\\Lib\\site-packages\\keras\\src\\trainers\\data_adapters\\py_dataset_adapter.py:122: UserWarning: Your `PyDataset` class should call `super().__init__(**kwargs)` in its constructor. `**kwargs` can include `workers`, `use_multiprocessing`, `max_queue_size`. Do not pass these arguments to `fit()`, as they will be ignored.\n",
      "  self._warn_if_super_not_called()\n"
     ]
    },
    {
     "name": "stdout",
     "output_type": "stream",
     "text": [
      "\u001b[1m1/1\u001b[0m \u001b[32m━━━━━━━━━━━━━━━━━━━━\u001b[0m\u001b[37m\u001b[0m \u001b[1m2s\u001b[0m 2s/step - accuracy: 0.3333 - loss: 1.1075 - val_accuracy: 0.5000 - val_loss: 1.0473\n",
      "Epoch 2/10\n",
      "\u001b[1m1/1\u001b[0m \u001b[32m━━━━━━━━━━━━━━━━━━━━\u001b[0m\u001b[37m\u001b[0m \u001b[1m0s\u001b[0m 135ms/step - accuracy: 0.3333 - loss: 1.0468 - val_accuracy: 0.6667 - val_loss: 1.0007\n",
      "Epoch 3/10\n",
      "\u001b[1m1/1\u001b[0m \u001b[32m━━━━━━━━━━━━━━━━━━━━\u001b[0m\u001b[37m\u001b[0m \u001b[1m0s\u001b[0m 124ms/step - accuracy: 0.5000 - loss: 1.0314 - val_accuracy: 0.8333 - val_loss: 0.9470\n",
      "Epoch 4/10\n",
      "\u001b[1m1/1\u001b[0m \u001b[32m━━━━━━━━━━━━━━━━━━━━\u001b[0m\u001b[37m\u001b[0m \u001b[1m0s\u001b[0m 126ms/step - accuracy: 0.6667 - loss: 0.9823 - val_accuracy: 0.8333 - val_loss: 0.8733\n",
      "Epoch 5/10\n",
      "\u001b[1m1/1\u001b[0m \u001b[32m━━━━━━━━━━━━━━━━━━━━\u001b[0m\u001b[37m\u001b[0m \u001b[1m0s\u001b[0m 117ms/step - accuracy: 1.0000 - loss: 0.8584 - val_accuracy: 0.8333 - val_loss: 0.7905\n",
      "Epoch 6/10\n",
      "\u001b[1m1/1\u001b[0m \u001b[32m━━━━━━━━━━━━━━━━━━━━\u001b[0m\u001b[37m\u001b[0m \u001b[1m0s\u001b[0m 126ms/step - accuracy: 1.0000 - loss: 0.8163 - val_accuracy: 1.0000 - val_loss: 0.7037\n",
      "Epoch 7/10\n",
      "\u001b[1m1/1\u001b[0m \u001b[32m━━━━━━━━━━━━━━━━━━━━\u001b[0m\u001b[37m\u001b[0m \u001b[1m0s\u001b[0m 124ms/step - accuracy: 1.0000 - loss: 0.6998 - val_accuracy: 0.8333 - val_loss: 0.6211\n",
      "Epoch 8/10\n",
      "\u001b[1m1/1\u001b[0m \u001b[32m━━━━━━━━━━━━━━━━━━━━\u001b[0m\u001b[37m\u001b[0m \u001b[1m0s\u001b[0m 110ms/step - accuracy: 0.6667 - loss: 0.8391 - val_accuracy: 0.8333 - val_loss: 0.5206\n",
      "Epoch 9/10\n",
      "\u001b[1m1/1\u001b[0m \u001b[32m━━━━━━━━━━━━━━━━━━━━\u001b[0m\u001b[37m\u001b[0m \u001b[1m0s\u001b[0m 139ms/step - accuracy: 0.8333 - loss: 0.6079 - val_accuracy: 0.8333 - val_loss: 0.5060\n",
      "Epoch 10/10\n",
      "\u001b[1m1/1\u001b[0m \u001b[32m━━━━━━━━━━━━━━━━━━━━\u001b[0m\u001b[37m\u001b[0m \u001b[1m0s\u001b[0m 143ms/step - accuracy: 0.6667 - loss: 0.6434 - val_accuracy: 0.8333 - val_loss: 0.4266\n"
     ]
    }
   ],
   "source": [
    "model = models.Sequential()\n",
    "model.add(layers.Input(shape=(32, 32, 3)))\n",
    "model.add(layers.Conv2D(32, (3, 3), activation='relu'))\n",
    "model.add(layers.MaxPooling2D((2, 2)))\n",
    "model.add(layers.Conv2D(64, (3, 3), activation='relu'))\n",
    "model.add(layers.MaxPooling2D((2, 2)))\n",
    "model.add(layers.Conv2D(64, (3, 3), activation='relu'))\n",
    "model.add(layers.Flatten())\n",
    "model.add(layers.Dense(64, activation='relu'))\n",
    "model.add(layers.Dense(len(train_generator.class_indices), activation='softmax'))  # Número de classes\n",
    "\n",
    "# Compilar o modelo\n",
    "model.compile(optimizer='adam',\n",
    "              loss='categorical_crossentropy',\n",
    "              metrics=['accuracy'])\n",
    "\n",
    "# Treinar o modelo\n",
    "history = model.fit(train_generator, epochs=10, validation_data=test_generator)"
   ]
  },
  {
   "cell_type": "code",
   "execution_count": 7,
   "id": "7d1114d9-201d-48dd-88a5-4ca23919f0bb",
   "metadata": {
    "tags": []
   },
   "outputs": [
    {
     "name": "stdout",
     "output_type": "stream",
     "text": [
      "1/1 - 0s - 67ms/step - accuracy: 0.8333 - loss: 0.4266\n",
      "\n",
      "Acurácia no conjunto de teste: 83.33%\n",
      "\u001b[1m1/1\u001b[0m \u001b[32m━━━━━━━━━━━━━━━━━━━━\u001b[0m\u001b[37m\u001b[0m \u001b[1m0s\u001b[0m 133ms/step\n",
      "Classe prevista: peixes\n",
      "Confiança: 59.00%\n"
     ]
    }
   ],
   "source": [
    "# Avaliar o modelo\n",
    "test_loss, test_acc = model.evaluate(test_generator, verbose=2)\n",
    "print(f'\\nAcurácia no conjunto de teste: {test_acc*100:.2f}%')\n",
    "\n",
    "# Para prever uma nova imagem\n",
    "from tensorflow.keras.preprocessing import image\n",
    "import numpy as np\n",
    "\n",
    "# Função para carregar e preprocessar uma nova imagem\n",
    "def load_and_preprocess_image(img_path):\n",
    "    img = image.load_img(img_path, target_size=(32, 32))  # Redimensionar\n",
    "    img_array = image.img_to_array(img) / 255.0  # Normalizar\n",
    "    img_array = np.expand_dims(img_array, axis=0)  # Adicionar dimensão do lote\n",
    "    return img_array\n",
    "\n",
    "# Exemplo de previsão\n",
    "img_path = r'C:\\Users\\naomi\\OneDrive\\Pictures\\WhatsApp Image 2024-10-01 at 19.06.33.jpeg'\n",
    "img = load_and_preprocess_image(img_path)\n",
    "predictions = model.predict(img)\n",
    "predicted_class = np.argmax(predictions)\n",
    "\n",
    "# Mostrar o resultado\n",
    "print(f'Classe prevista: {list(train_generator.class_indices.keys())[predicted_class]}')\n",
    "\n",
    "confidence = np.max(predictions) * 100  # Multiplicar por 100 para obter a porcentagem\n",
    "print(f'Confiança: {confidence:.2f}%')"
   ]
  },
  {
   "cell_type": "code",
   "execution_count": 8,
   "id": "c0a1d414-2020-4769-882f-a074ff77ec8c",
   "metadata": {},
   "outputs": [
    {
     "name": "stderr",
     "output_type": "stream",
     "text": [
      "WARNING:absl:You are saving your model as an HDF5 file via `model.save()` or `keras.saving.save_model(model)`. This file format is considered legacy. We recommend using instead the native Keras format, e.g. `model.save('my_model.keras')` or `keras.saving.save_model(model, 'my_model.keras')`. \n"
     ]
    }
   ],
   "source": [
    "model.save('modelo_classificacao_animais.h5')"
   ]
  },
  {
   "cell_type": "code",
   "execution_count": null,
   "id": "9f5e79d5-fdf1-4b4f-b9f4-37300fbebb92",
   "metadata": {},
   "outputs": [],
   "source": []
  }
 ],
 "metadata": {
  "kernelspec": {
   "display_name": "Python 3 (ipykernel)",
   "language": "python",
   "name": "python3"
  },
  "language_info": {
   "codemirror_mode": {
    "name": "ipython",
    "version": 3
   },
   "file_extension": ".py",
   "mimetype": "text/x-python",
   "name": "python",
   "nbconvert_exporter": "python",
   "pygments_lexer": "ipython3",
   "version": "3.11.5"
  }
 },
 "nbformat": 4,
 "nbformat_minor": 5
}
