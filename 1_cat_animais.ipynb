{
 "cells": [
  {
   "cell_type": "code",
   "execution_count": 1,
   "id": "89955633-9cfb-4bea-ba69-423b6bc9e8a9",
   "metadata": {
    "tags": []
   },
   "outputs": [],
   "source": [
    "import tensorflow as tf\n",
    "from tensorflow.keras import datasets, layers, models\n",
    "from tensorflow.keras.preprocessing.image import ImageDataGenerator\n",
    "import matplotlib.pyplot as plt\n",
    "import numpy as np"
   ]
  },
  {
   "cell_type": "code",
   "execution_count": 2,
   "id": "8205a9c2-ba5a-458e-a8d2-417258baf1aa",
   "metadata": {
    "tags": []
   },
   "outputs": [],
   "source": [
    "train_dir = r'C:\\Users\\naomi\\upx_cinco\\Scripts\\dataset\\treinamento'\n",
    "test_dir = r'C:\\Users\\naomi\\upx_cinco\\Scripts\\dataset\\teste'"
   ]
  },
  {
   "cell_type": "code",
   "execution_count": 3,
   "id": "6d53da5a-b10a-4d21-b962-2833ed14fba4",
   "metadata": {
    "tags": []
   },
   "outputs": [],
   "source": [
    "train_datagen = ImageDataGenerator(\n",
    "    rescale=1./255,          # Normalização\n",
    "    rotation_range=20,       # Rotação aleatória\n",
    "    width_shift_range=0.2,   # Deslocamento horizontal\n",
    "    height_shift_range=0.2,  # Deslocamento vertical\n",
    "    \n",
    "    shear_range=0.2,        # Cortes\n",
    "    zoom_range=0.2,         # Zoom\n",
    "    horizontal_flip=True,    # Espelhar horizontalmente\n",
    "    fill_mode='nearest'      # Modo de preenchimento\n",
    ")"
   ]
  },
  {
   "cell_type": "code",
   "execution_count": 4,
   "id": "c6604d46-a8c1-4ea8-a6d2-856665b9c048",
   "metadata": {
    "tags": []
   },
   "outputs": [],
   "source": [
    "test_datagen = ImageDataGenerator(rescale=1./255)  "
   ]
  },
  {
   "cell_type": "code",
   "execution_count": 5,
   "id": "d392cbb8-b3db-4c2c-bfa3-f2ab5dc49921",
   "metadata": {
    "tags": []
   },
   "outputs": [
    {
     "name": "stdout",
     "output_type": "stream",
     "text": [
      "Found 6 images belonging to 3 classes.\n",
      "Found 6 images belonging to 3 classes.\n"
     ]
    }
   ],
   "source": [
    "train_generator = train_datagen.flow_from_directory(\n",
    "    train_dir,\n",
    "    target_size=(32, 32),  # Redimensionar as imagens\n",
    "    batch_size=32,\n",
    "    class_mode='categorical'  # Se você tem múltiplas classes\n",
    ")\n",
    "\n",
    "test_generator = test_datagen.flow_from_directory(\n",
    "    test_dir,\n",
    "    target_size=(32, 32),\n",
    "    batch_size=32,\n",
    "    class_mode='categorical'\n",
    ")"
   ]
  },
  {
   "cell_type": "code",
   "execution_count": 6,
   "id": "af146e16-5330-46ed-8873-619101069398",
   "metadata": {
    "tags": []
   },
   "outputs": [
    {
     "name": "stdout",
     "output_type": "stream",
     "text": [
      "Epoch 1/10\n",
      "\u001b[1m1/1\u001b[0m \u001b[32m━━━━━━━━━━━━━━━━━━━━\u001b[0m\u001b[37m\u001b[0m \u001b[1m0s\u001b[0m 1s/step - accuracy: 0.3333 - loss: 1.1198"
     ]
    },
    {
     "name": "stderr",
     "output_type": "stream",
     "text": [
      "C:\\Users\\naomi\\anaconda3\\Lib\\site-packages\\keras\\src\\trainers\\data_adapters\\py_dataset_adapter.py:122: UserWarning: Your `PyDataset` class should call `super().__init__(**kwargs)` in its constructor. `**kwargs` can include `workers`, `use_multiprocessing`, `max_queue_size`. Do not pass these arguments to `fit()`, as they will be ignored.\n",
      "  self._warn_if_super_not_called()\n"
     ]
    },
    {
     "name": "stdout",
     "output_type": "stream",
     "text": [
      "\u001b[1m1/1\u001b[0m \u001b[32m━━━━━━━━━━━━━━━━━━━━\u001b[0m\u001b[37m\u001b[0m \u001b[1m1s\u001b[0m 1s/step - accuracy: 0.3333 - loss: 1.1198 - val_accuracy: 0.3333 - val_loss: 1.0637\n",
      "Epoch 2/10\n",
      "\u001b[1m1/1\u001b[0m \u001b[32m━━━━━━━━━━━━━━━━━━━━\u001b[0m\u001b[37m\u001b[0m \u001b[1m0s\u001b[0m 127ms/step - accuracy: 0.6667 - loss: 1.0628 - val_accuracy: 1.0000 - val_loss: 1.0137\n",
      "Epoch 3/10\n",
      "\u001b[1m1/1\u001b[0m \u001b[32m━━━━━━━━━━━━━━━━━━━━\u001b[0m\u001b[37m\u001b[0m \u001b[1m0s\u001b[0m 129ms/step - accuracy: 0.5000 - loss: 1.0280 - val_accuracy: 1.0000 - val_loss: 0.9644\n",
      "Epoch 4/10\n",
      "\u001b[1m1/1\u001b[0m \u001b[32m━━━━━━━━━━━━━━━━━━━━\u001b[0m\u001b[37m\u001b[0m \u001b[1m0s\u001b[0m 118ms/step - accuracy: 0.8333 - loss: 1.0017 - val_accuracy: 1.0000 - val_loss: 0.9021\n",
      "Epoch 5/10\n",
      "\u001b[1m1/1\u001b[0m \u001b[32m━━━━━━━━━━━━━━━━━━━━\u001b[0m\u001b[37m\u001b[0m \u001b[1m0s\u001b[0m 120ms/step - accuracy: 1.0000 - loss: 0.9227 - val_accuracy: 1.0000 - val_loss: 0.8232\n",
      "Epoch 6/10\n",
      "\u001b[1m1/1\u001b[0m \u001b[32m━━━━━━━━━━━━━━━━━━━━\u001b[0m\u001b[37m\u001b[0m \u001b[1m0s\u001b[0m 122ms/step - accuracy: 1.0000 - loss: 0.8654 - val_accuracy: 1.0000 - val_loss: 0.7329\n",
      "Epoch 7/10\n",
      "\u001b[1m1/1\u001b[0m \u001b[32m━━━━━━━━━━━━━━━━━━━━\u001b[0m\u001b[37m\u001b[0m \u001b[1m0s\u001b[0m 122ms/step - accuracy: 0.8333 - loss: 0.7859 - val_accuracy: 1.0000 - val_loss: 0.6415\n",
      "Epoch 8/10\n",
      "\u001b[1m1/1\u001b[0m \u001b[32m━━━━━━━━━━━━━━━━━━━━\u001b[0m\u001b[37m\u001b[0m \u001b[1m0s\u001b[0m 137ms/step - accuracy: 1.0000 - loss: 0.7165 - val_accuracy: 1.0000 - val_loss: 0.5667\n",
      "Epoch 9/10\n",
      "\u001b[1m1/1\u001b[0m \u001b[32m━━━━━━━━━━━━━━━━━━━━\u001b[0m\u001b[37m\u001b[0m \u001b[1m0s\u001b[0m 124ms/step - accuracy: 1.0000 - loss: 0.6710 - val_accuracy: 0.8333 - val_loss: 0.5374\n",
      "Epoch 10/10\n",
      "\u001b[1m1/1\u001b[0m \u001b[32m━━━━━━━━━━━━━━━━━━━━\u001b[0m\u001b[37m\u001b[0m \u001b[1m0s\u001b[0m 118ms/step - accuracy: 0.8333 - loss: 0.7695 - val_accuracy: 0.8333 - val_loss: 0.5407\n"
     ]
    }
   ],
   "source": [
    "model = models.Sequential()\n",
    "model.add(layers.Input(shape=(32, 32, 3)))\n",
    "model.add(layers.Conv2D(32, (3, 3), activation='relu'))\n",
    "model.add(layers.MaxPooling2D((2, 2)))\n",
    "model.add(layers.Conv2D(64, (3, 3), activation='relu'))\n",
    "model.add(layers.MaxPooling2D((2, 2)))\n",
    "model.add(layers.Conv2D(64, (3, 3), activation='relu'))\n",
    "model.add(layers.Flatten())\n",
    "model.add(layers.Dense(64, activation='relu'))\n",
    "model.add(layers.Dense(len(train_generator.class_indices), activation='softmax'))  # Número de classes\n",
    "\n",
    "# Compilar o modelo\n",
    "model.compile(optimizer='adam',\n",
    "              loss='categorical_crossentropy',\n",
    "              metrics=['accuracy'])\n",
    "\n",
    "# Treinar o modelo\n",
    "history = model.fit(train_generator, epochs=10, validation_data=test_generator)"
   ]
  },
  {
   "cell_type": "code",
   "execution_count": 7,
   "id": "7d1114d9-201d-48dd-88a5-4ca23919f0bb",
   "metadata": {
    "tags": []
   },
   "outputs": [
    {
     "name": "stdout",
     "output_type": "stream",
     "text": [
      "1/1 - 0s - 67ms/step - accuracy: 0.8333 - loss: 0.5407\n",
      "\n",
      "Acurácia no conjunto de teste: 83.33%\n",
      "\u001b[1m1/1\u001b[0m \u001b[32m━━━━━━━━━━━━━━━━━━━━\u001b[0m\u001b[37m\u001b[0m \u001b[1m0s\u001b[0m 57ms/step\n",
      "Classe prevista: peixes\n",
      "Confiança: 97.22%\n"
     ]
    }
   ],
   "source": [
    "# Avaliar o modelo\n",
    "test_loss, test_acc = model.evaluate(test_generator, verbose=2)\n",
    "print(f'\\nAcurácia no conjunto de teste: {test_acc*100:.2f}%')\n",
    "\n",
    "# Para prever uma nova imagem\n",
    "from tensorflow.keras.preprocessing import image\n",
    "import numpy as np\n",
    "\n",
    "# Função para carregar e preprocessar uma nova imagem\n",
    "def load_and_preprocess_image(img_path):\n",
    "    img = image.load_img(img_path, target_size=(32, 32))  # Redimensionar\n",
    "    img_array = image.img_to_array(img) / 255.0  # Normalizar\n",
    "    img_array = np.expand_dims(img_array, axis=0)  # Adicionar dimensão do lote\n",
    "    return img_array\n",
    "\n",
    "# Exemplo de previsão\n",
    "img_path = r'C:\\Users\\naomi\\OneDrive\\Pictures\\WhatsApp Image 2024-10-01 at 19.06.33.jpeg'\n",
    "img = load_and_preprocess_image(img_path)\n",
    "predictions = model.predict(img)\n",
    "predicted_class = np.argmax(predictions)\n",
    "\n",
    "# Mostrar o resultado\n",
    "print(f'Classe prevista: {list(train_generator.class_indices.keys())[predicted_class]}')\n",
    "\n",
    "confidence = np.max(predictions) * 100  # Multiplicar por 100 para obter a porcentagem\n",
    "print(f'Confiança: {confidence:.2f}%')"
   ]
  },
  {
   "cell_type": "code",
   "execution_count": 9,
   "id": "c0a1d414-2020-4769-882f-a074ff77ec8c",
   "metadata": {},
   "outputs": [],
   "source": [
    "model.save('modelo_classificacao_animais.keras')"
   ]
  },
  {
   "cell_type": "code",
   "execution_count": 10,
   "id": "9f5e79d5-fdf1-4b4f-b9f4-37300fbebb92",
   "metadata": {},
   "outputs": [
    {
     "name": "stdout",
     "output_type": "stream",
     "text": [
      "INFO:tensorflow:Assets written to: saved_model_dir\\assets\n"
     ]
    },
    {
     "name": "stderr",
     "output_type": "stream",
     "text": [
      "INFO:tensorflow:Assets written to: saved_model_dir\\assets\n"
     ]
    },
    {
     "name": "stdout",
     "output_type": "stream",
     "text": [
      "Saved artifact at 'saved_model_dir'. The following endpoints are available:\n",
      "\n",
      "* Endpoint 'serve'\n",
      "  args_0 (POSITIONAL_ONLY): TensorSpec(shape=(None, 32, 32, 3), dtype=tf.float32, name='keras_tensor')\n",
      "Output Type:\n",
      "  TensorSpec(shape=(None, 3), dtype=tf.float32, name=None)\n",
      "Captures:\n",
      "  1324343845392: TensorSpec(shape=(), dtype=tf.resource, name=None)\n",
      "  1324561621520: TensorSpec(shape=(), dtype=tf.resource, name=None)\n",
      "  1324343844816: TensorSpec(shape=(), dtype=tf.resource, name=None)\n",
      "  1324343845200: TensorSpec(shape=(), dtype=tf.resource, name=None)\n",
      "  1324563173008: TensorSpec(shape=(), dtype=tf.resource, name=None)\n",
      "  1324563173584: TensorSpec(shape=(), dtype=tf.resource, name=None)\n",
      "  1324563173200: TensorSpec(shape=(), dtype=tf.resource, name=None)\n",
      "  1324563174736: TensorSpec(shape=(), dtype=tf.resource, name=None)\n",
      "  1324563172432: TensorSpec(shape=(), dtype=tf.resource, name=None)\n",
      "  1324563174160: TensorSpec(shape=(), dtype=tf.resource, name=None)\n"
     ]
    }
   ],
   "source": [
    "model.export('saved_model_dir')  # Salva o modelo no formato SavedModel"
   ]
  },
  {
   "cell_type": "code",
   "execution_count": null,
   "id": "d6d4972c-bf5a-4f2a-9166-8893dd25fca0",
   "metadata": {},
   "outputs": [],
   "source": []
  }
 ],
 "metadata": {
  "kernelspec": {
   "display_name": "Python 3 (ipykernel)",
   "language": "python",
   "name": "python3"
  },
  "language_info": {
   "codemirror_mode": {
    "name": "ipython",
    "version": 3
   },
   "file_extension": ".py",
   "mimetype": "text/x-python",
   "name": "python",
   "nbconvert_exporter": "python",
   "pygments_lexer": "ipython3",
   "version": "3.11.5"
  }
 },
 "nbformat": 4,
 "nbformat_minor": 5
}
